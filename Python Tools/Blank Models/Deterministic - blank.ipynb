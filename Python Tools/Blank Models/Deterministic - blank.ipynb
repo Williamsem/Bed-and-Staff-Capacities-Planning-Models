{
 "cells": [
  {
   "attachments": {},
   "cell_type": "markdown",
   "metadata": {},
   "source": [
    "### Import the required packages into python"
   ]
  },
  {
   "cell_type": "code",
   "execution_count": null,
   "metadata": {},
   "outputs": [],
   "source": [
    "import pulp\n",
    "import itertools"
   ]
  },
  {
   "attachments": {},
   "cell_type": "markdown",
   "metadata": {},
   "source": [
    "### Set up the Deterministic minimisation problem"
   ]
  },
  {
   "cell_type": "code",
   "execution_count": 1,
   "metadata": {},
   "outputs": [],
   "source": [
    "def initialise_deterministic_minimisation_problem(\n",
    "    specialties, hospitals, bands\n",
    "):\n",
    "    \"\"\"\n",
    "    Initialise the mininmisation problem. \n",
    "    Set decision variables for the models.\n",
    "    \"\"\"\n",
    "    sh = [(s,h) for s in specialties for h in hospitals]\n",
    "    shb = [(s,h,b) for s in specialties for h in hospitals for b in bands]\n",
    "\n",
    "    prob = pulp.LpProblem(\"Deterministic\", pulp.LpMinimize)\n",
    "    \n",
    "    xbed = pulp.LpVariable.dicts(\n",
    "        \"Xbed\", (specialties, hospitals), lowBound=0, cat='Integer'\n",
    "    )\n",
    "    xstaff = pulp.LpVariable.dicts(\n",
    "        \"Xstaff\", (specialties, hospitals, bands), lowBound=0,cat='Integer'\n",
    "    )\n",
    "    return prob, sh, shb, xbed, xstaff\n",
    "\n",
    "def add_deterministic_constraints(xbed, xstaff, UBbed, UBstaff, D, K, R, sh, shb, prob):\n",
    "    \"\"\"\n",
    "    Add the constraints that are required for the deterministic model\n",
    "        \n",
    "    - Constraints 1-6: Ensures demand is met across all specialties and all regions\n",
    "    - Constraint 7: Ensures beds are only able to open in a ward if the facilities are able to be opened \n",
    "    - Constraint 8: Ensures staffing ratios are met\n",
    "    - Constraint 9: Ensures beds deployed does not exceed maximum capacity of hospital\n",
    "    - Constraint 10: Ensures staff deployed does not exceed maximum staffing resources\n",
    "    \"\"\"\n",
    "    \n",
    "    for s in specialties:\n",
    "        prob += pulp.lpSum(xbed[s][h] for h in region1) >= pulp.lpSum(D[s][0]) #Constraint 1\n",
    "        prob += pulp.lpSum(xbed[s][h] for h in region2) >= pulp.lpSum(D[s][1]) #Constraint 2\n",
    "        prob += pulp.lpSum(xbed[s][h] for h in region3) >= pulp.lpSum(D[s][2]) #Constraint 3\n",
    "        prob += pulp.lpSum(xbed[s][h] for h in region4) >= pulp.lpSum(D[s][3]) #Constraint 4\n",
    "        prob += pulp.lpSum(xbed[s][h] for h in region5) >= pulp.lpSum(D[s][4]) #Constraint 5\n",
    "        prob += pulp.lpSum(xbed[s][h] for h in region6) >= pulp.lpSum(D[s][5]) #Constraint 6\n",
    "        \n",
    "        for h in hospitals:\n",
    "            prob += pulp.lpSum(xbed[s][h])<= pulp.lpSum(K[s][h]) # Constraint 7\n",
    "                \n",
    "            for b in bands:\n",
    "                prob += pulp.lpSum(xstaff[s][h][b]) >= pulp.lpSum(R[s][b]*(xbed[s][h])) #Constraint 8\n",
    "            \n",
    "    for h in hospitals:\n",
    "        prob += pulp.lpSum(xbed[s][h] for s in specialties) <= UBbed[h]  #Constraint 9\n",
    "        \n",
    "    for b in bands:\n",
    "        prob += pulp.lpSum(xstaff[s][h][b] for (s,h) in sh) <= UBstaff[b] # #Constraint 10\n",
    "        \n",
    "    return prob\n",
    "\n",
    "def solve_deterministic_minimisation_problem(\n",
    "    specialties,\n",
    "    bands,\n",
    "    region1,\n",
    "    region2,\n",
    "    region3,\n",
    "    region4,\n",
    "    region5,\n",
    "    region6,\n",
    "    hospitals,\n",
    "    regions,\n",
    "    D,\n",
    "    K,\n",
    "    R,\n",
    "    cbed,\n",
    "    cstaff,\n",
    "    UBbed,\n",
    "    UBstaff,\n",
    "):\n",
    "    \"\"\"\n",
    "    Solves the deterministic problem, with the objective function being minimised\n",
    "    Uses the CBC_CMD Solver, with maximum run time of 60 seconds and precision of 0.01\n",
    "    \"\"\"\n",
    "    prob, sh, shb, xbed, xstaff = initialise_deterministic_minimisation_problem(\n",
    "        specialties=specialties, \n",
    "        hospitals=hospitals, \n",
    "        bands=bands\n",
    "    )\n",
    "    \n",
    "    prob += (\n",
    "        pulp.lpSum((xbed[s][h] * cbed[s][h]) for (s,h) in sh) +\n",
    "        pulp.lpSum((xstaff[s][h][b]*cstaff[b]) for (s,h,b) in shb)\n",
    "    )\n",
    "    \n",
    "    prob = add_deterministic_constraints(\n",
    "        xbed=xbed, \n",
    "        xstaff=xstaff, \n",
    "        UBbed=UBbed, \n",
    "        UBstaff=UBstaff,\n",
    "        D=D, \n",
    "        K=K,\n",
    "        R=R,\n",
    "        sh=sh,\n",
    "        shb=shb,\n",
    "        prob=prob,\n",
    "    )\n",
    "    prob.solve(pulp.PULP_CBC_CMD(maxSeconds=60,fracGap=0.01))\n",
    "    \n",
    "    return prob"
   ]
  },
  {
   "attachments": {},
   "cell_type": "markdown",
   "metadata": {},
   "source": [
    "### The following cell can be edited to allow the user to enter their own parameters and values for the model"
   ]
  },
  {
   "cell_type": "code",
   "execution_count": null,
   "metadata": {},
   "outputs": [],
   "source": [
    "specialties = list(itertools.chain(range(0, ))) #Creates list of specialties\n",
    "bands = list(itertools.chain(range(0, ))) #Creates list of nursing bands\n",
    "regions = list(itertools.chain(range(0, ))) #Creates List of regions\n",
    "\n",
    "region1 = []\n",
    "region2 = []\n",
    "region3 = []\n",
    "region4 = []\n",
    "region5 = []\n",
    "region6 = []\n",
    "hospitals = region1 + region2 +region3 + region4 +region5 +region6\n",
    "D = [ ,\n",
    "[],\n",
    "]\n",
    "K = [\n",
    "[],\n",
    "]\n",
    "R = [\n",
    "[],\n",
    "] \n",
    "cbed = [\n",
    "[],\n",
    "]\n",
    "cstaff = []\n",
    "UBstaff = []\n",
    "UBbed =[]"
   ]
  },
  {
   "attachments": {},
   "cell_type": "markdown",
   "metadata": {},
   "source": [
    "### The following runs the deterministic model"
   ]
  },
  {
   "cell_type": "code",
   "execution_count": null,
   "metadata": {},
   "outputs": [],
   "source": [
    "prob = solve_deterministic_minimisation_problem(\n",
    "    specialties,\n",
    "    bands,\n",
    "    region1,\n",
    "    region2,\n",
    "    region3,\n",
    "    region4,\n",
    "    region5,\n",
    "    region6,\n",
    "    hospitals,\n",
    "    regions,\n",
    "    D,\n",
    "    K,\n",
    "    R,\n",
    "    cbed,\n",
    "    cstaff,\n",
    "    UBbed,\n",
    "    UBstaff,\n",
    ")"
   ]
  },
  {
   "attachments": {},
   "cell_type": "markdown",
   "metadata": {},
   "source": [
    "### The following outputs the results of the deterministic model"
   ]
  },
  {
   "cell_type": "code",
   "execution_count": null,
   "metadata": {},
   "outputs": [],
   "source": [
    "print(\"Solution Status = \", pulp.LpStatus[prob.status])\n",
    "print(\"Total price = \", pulp.value(prob.objective))  \n",
    "for v in prob.variables():\n",
    "    if v.varValue >= 0:\n",
    "        #print(v.varValue)\n",
    "        print(v.name, \"=\", v.varValue)\n",
    "production = [v.varValue for v in prob.variables()]"
   ]
  }
 ],
 "metadata": {
  "kernelspec": {
   "display_name": "base",
   "language": "python",
   "name": "python3"
  },
  "language_info": {
   "codemirror_mode": {
    "name": "ipython",
    "version": 3
   },
   "file_extension": ".py",
   "mimetype": "text/x-python",
   "name": "python",
   "nbconvert_exporter": "python",
   "pygments_lexer": "ipython3",
   "version": "3.7.4"
  },
  "orig_nbformat": 4
 },
 "nbformat": 4,
 "nbformat_minor": 2
}
