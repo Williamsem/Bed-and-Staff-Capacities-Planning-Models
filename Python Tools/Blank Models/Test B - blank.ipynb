{
 "cells": [
  {
   "cell_type": "markdown",
   "metadata": {},
   "source": [
    "### Import the required packages into python"
   ]
  },
  {
   "cell_type": "code",
   "execution_count": null,
   "metadata": {},
   "outputs": [],
   "source": [
    "import pulp\n",
    "import itertools\n",
    "import gurobipy"
   ]
  },
  {
   "cell_type": "markdown",
   "metadata": {},
   "source": [
    "### Set up Test B problem"
   ]
  },
  {
   "cell_type": "code",
   "execution_count": null,
   "metadata": {},
   "outputs": [],
   "source": [
    "def initialise_testb_minimisation_problem(\n",
    "specialties, hospitals, bands, regions, scenarios\n",
    "):\n",
    "    \"\"\"\n",
    "    Initialise the minimisation problem.\n",
    "    Set decision variables for the models.\n",
    "    \n",
    "    \"\"\"\n",
    "    sh = [(s,h) for s in specialties for h in hospitals]\n",
    "    shb = [(s,h,b) for s in specialties for h in hospitals for b in bands]\n",
    "    shk = [(s,h,k) for s in specialties for h in hospitals for k in scenarios]\n",
    "    srhk = [(s,r,h,k) for s in specialties for r in regions for h in hospitals for k in scenarios]\n",
    "    sbhk = [(s,b,h,k) for s in specialties for b in bands for h in hospitals for k in scenarios]\n",
    "    \n",
    "    prob = pulp.LpProblem(\"Test B\", pulp.LpMinimize)\n",
    "    \n",
    "    xbed = pulp.LpVariable.dicts(\n",
    "        \"Xbed\", (specialties,hospitals), lowBound=0, cat = 'Integer'\n",
    "    )\n",
    "    xstaff = pulp.LpVariable.dicts(\n",
    "        \"Xstaff\", (specialties,hospitals,bands), lowBound=0,cat = 'Integer'\n",
    "    )\n",
    "    ubed = pulp.LpVariable.dicts(\n",
    "        \"Ubed\",(specialties,hospitals,scenarios), lowBound=0, cat='Integer'\n",
    "    )\n",
    "    ustaff = pulp.LpVariable.dicts(\n",
    "        \"Ustaff\",(specialties,hospitals,bands,scenarios), lowBound=0, cat='Integer'\n",
    "    )\n",
    "    return prob, sh, shb, shk, srhk, sbhk, xbed, xstaff, ubed, ustaff\n",
    "\n"
   ]
  },
  {
   "cell_type": "markdown",
   "metadata": {},
   "source": [
    "### The following cell can be edited to allow the user to enter their own parameters and values for the model"
   ]
  },
  {
   "cell_type": "code",
   "execution_count": null,
   "metadata": {},
   "outputs": [],
   "source": [
    "specialties = list(itertools.chain(range(0, ))) #Creates list of specialties\n",
    "bands = list(itertools.chain(range(0, ))) #Creates list of nursing bands\n",
    "regions = list(itertools.chain(range(0, ))) #Creates List of regions\n",
    "\n",
    "region1 = []\n",
    "region2 = []\n",
    "region3 = []\n",
    "region4 = []\n",
    "region5 = []\n",
    "region6 = []\n",
    "hospitals = region1 + region2 +region3 + region4 +region5 +region6\n",
    "D = [\n",
    "[[],[]],\n",
    "]\n",
    "K = [\n",
    "[],\n",
    "]\n",
    "R = [\n",
    "[],\n",
    "] \n",
    "c1bed = [\n",
    "[],\n",
    "]\n",
    "c2bed = [\n",
    "[],\n",
    "]\n",
    "c1staff = []\n",
    "c2staff = []\n",
    "UBstaff = [\n",
    "[],\n",
    "]\n",
    "UBustaff = [\n",
    "[],\n",
    "]\n",
    "UBbed = [\n",
    "[],\n",
    "]\n",
    "UBubed =[\n",
    "[],\n",
    "]\n",
    "scenarios = []\n",
    "pscenarios = []\n",
    "TESTB=[\n",
    "[],\n",
    "]"
   ]
  },
  {
   "cell_type": "markdown",
   "metadata": {},
   "source": [
    "### The following runs the Test B model"
   ]
  },
  {
   "cell_type": "code",
   "execution_count": null,
   "metadata": {},
   "outputs": [],
   "source": [
    "prob = solve_testc_minimisation_problem(\n",
    "    specialties,\n",
    "    bands,\n",
    "    hospitals,\n",
    "    regions,\n",
    "    scenarios,\n",
    "    pscenarios,\n",
    "    D,\n",
    "    R,\n",
    "    K,\n",
    "    c1bed,\n",
    "    c2bed,\n",
    "    c1staff,\n",
    "    c2staff,\n",
    "    UBbed,\n",
    "    UBstaff,\n",
    "    TESTB\n",
    ")"
   ]
  },
  {
   "cell_type": "markdown",
   "metadata": {},
   "source": [
    "### The following outputs the results of the Test B model"
   ]
  },
  {
   "cell_type": "code",
   "execution_count": null,
   "metadata": {},
   "outputs": [],
   "source": [
    "print(\"Solution Status = \", pulp.LpStatus[prob.status])\n",
    "print(\"Total price = \", pulp.value(prob.objective))  \n",
    "for v in prob.variables():\n",
    "    if v.varValue >= 0:\n",
    "        print(v.name, \"=\", v.varValue)\n",
    "production = [v.varValue for v in prob.variables()]"
   ]
  }
 ],
 "metadata": {
  "language_info": {
   "name": "python"
  },
  "orig_nbformat": 4
 },
 "nbformat": 4,
 "nbformat_minor": 2
}
